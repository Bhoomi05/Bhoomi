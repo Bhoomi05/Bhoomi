{
 "cells": [
  {
   "cell_type": "code",
   "execution_count": null,
   "metadata": {},
   "outputs": [],
   "source": [
    "import os\n",
    "import pandas as pd\n",
    "import matplotlib.pyplot as plt\n",
    "%matplotlib inline\n",
    "import numpy as np\n",
    "from sklearn import tree\n",
    "from sklearn.metrics import accuracy_score\n",
    "from scipy.stats import chi2_contingency\n",
    "import seaborn as sns\n",
    "from random import randrange, uniform"
   ]
  },
  {
   "cell_type": "code",
   "execution_count": null,
   "metadata": {},
   "outputs": [],
   "source": [
    "os.chdir(\"C:/Users/hp/Desktop/DATA SCIENTISTS\")\n",
    "os.getcwd()"
   ]
  },
  {
   "cell_type": "code",
   "execution_count": null,
   "metadata": {},
   "outputs": [],
   "source": [
    "df = pd.read_csv(\"Rental_Bike.csv\")"
   ]
  },
  {
   "cell_type": "code",
   "execution_count": null,
   "metadata": {},
   "outputs": [],
   "source": [
    "df.columns"
   ]
  },
  {
   "cell_type": "code",
   "execution_count": null,
   "metadata": {},
   "outputs": [],
   "source": [
    "type(df)"
   ]
  },
  {
   "cell_type": "code",
   "execution_count": null,
   "metadata": {},
   "outputs": [],
   "source": [
    "df.shape"
   ]
  },
  {
   "cell_type": "code",
   "execution_count": null,
   "metadata": {},
   "outputs": [],
   "source": [
    "df.head"
   ]
  },
  {
   "cell_type": "code",
   "execution_count": null,
   "metadata": {},
   "outputs": [],
   "source": [
    "df['season'].unique()"
   ]
  },
  {
   "cell_type": "code",
   "execution_count": null,
   "metadata": {},
   "outputs": [],
   "source": [
    "df['season'].nunique()"
   ]
  },
  {
   "cell_type": "code",
   "execution_count": null,
   "metadata": {},
   "outputs": [],
   "source": [
    "df['season'].value_counts()"
   ]
  },
  {
   "cell_type": "code",
   "execution_count": null,
   "metadata": {},
   "outputs": [],
   "source": [
    "df['season'].describe"
   ]
  },
  {
   "cell_type": "code",
   "execution_count": null,
   "metadata": {},
   "outputs": [],
   "source": [
    "missing_val = pd.DataFrame(df.isnull().sum())"
   ]
  },
  {
   "cell_type": "code",
   "execution_count": null,
   "metadata": {},
   "outputs": [],
   "source": [
    "missing_val"
   ]
  },
  {
   "cell_type": "code",
   "execution_count": null,
   "metadata": {},
   "outputs": [],
   "source": [
    "fig = plt.figure()\n",
    "\n",
    "plt.rcParams['figure.figsize'] = [32,16]\n",
    "plt.rcParams[\"font.weight\"] = \"bold\"\n",
    "\n",
    "fontdict={'fontsize': 25,\n",
    "          'weight' : 'bold'}\n",
    "\n",
    "fontdicty={'fontsize': 18,\n",
    "          'weight' : 'bold',\n",
    "          'verticalalignment': 'baseline',\n",
    "          'horizontalalignment': 'center'}\n",
    "\n",
    "fontdictx={'fontsize': 18,\n",
    "          'weight' : 'bold',\n",
    "          'horizontalalignment': 'center'}\n",
    "\n",
    "plt.subplots_adjust(wspace=0.2, hspace=0.2)\n",
    "\n",
    "fig.suptitle('Bike Rentals at Different Temperatures\\nBy Season', fontsize=25,fontweight=\"bold\", color=\"black\", \n",
    "             position=(0.5,1.01))\n",
    "ax1 = fig.add_subplot(221)\n",
    "ax1.scatter('temp', 'cnt', data=df[df['season']==1], c=\"green\")\n",
    "ax1.set_title('Spring', fontdict=fontdict, color=\"green\")\n",
    "ax1.set_ylabel(\"Count of Total Rental Bikes\", fontdict=fontdicty, position=(0,-0.1))\n",
    "\n",
    "\n",
    "ax2 = fig.add_subplot(222)\n",
    "ax2.scatter('temp', 'cnt', data=df[df['season']==2], c=\"orange\")\n",
    "ax2.set_title('Summer', fontdict=fontdict, color=\"orange\")\n",
    "\n",
    "\n",
    "\n",
    "ax3 = fig.add_subplot(223)\n",
    "ax3.scatter('temp', 'cnt', data=df[df['season']==3], c=\"brown\")\n",
    "ax3.set_title('Fall or Autumn', fontdict=fontdict, color=\"brown\")\n",
    "\n",
    "\n",
    "ax4 = fig.add_subplot(224)\n",
    "ax4.scatter('temp', 'cnt', data=df[df['season']==4], c=\"blue\")\n",
    "ax4.set_title(\"Winter\", fontdict=fontdict, color=\"blue\")\n",
    "ax4.set_xlabel(\"Normalized temperature\", fontdict=fontdictx, position=(-0.1,0));"
   ]
  },
  {
   "cell_type": "code",
   "execution_count": null,
   "metadata": {},
   "outputs": [],
   "source": [
    "f, ax= plt.subplots(figsize=(7,5))\n",
    "corr=df_corr.corr()\n",
    "sns.heatmap(corr,mask=np.zeros_like(corr, dtype=np.bool), cmap=sns.diverging_palette(160, 16, as_cmap=True),square=True, ax=ax)"
   ]
  },
  {
   "cell_type": "code",
   "execution_count": null,
   "metadata": {},
   "outputs": [],
   "source": [
    "from sklearn.preprocessing import LabelEncoder \n",
    "from sklearn.preprocessing import OneHotEncoder"
   ]
  },
  {
   "cell_type": "code",
   "execution_count": null,
   "metadata": {},
   "outputs": [],
   "source": [
    "from sklearn.model_selection import train_test_split"
   ]
  },
  {
   "cell_type": "code",
   "execution_count": null,
   "metadata": {},
   "outputs": [],
   "source": [
    "cnames=df.columns"
   ]
  },
  {
   "cell_type": "code",
   "execution_count": null,
   "metadata": {},
   "outputs": [],
   "source": [
    "df_corr=df.loc[:,cnames]"
   ]
  },
  {
   "cell_type": "code",
   "execution_count": null,
   "metadata": {},
   "outputs": [],
   "source": [
    "df_corr"
   ]
  },
  {
   "cell_type": "code",
   "execution_count": null,
   "metadata": {},
   "outputs": [],
   "source": [
    "#chi-square test\n",
    "for i in cname:\n",
    "        print(i)\n",
    "        chi2, p, dof, ex = chi2_contingency(pd.crosstab(df['cnt'], df[i]))\n",
    "        print(p)"
   ]
  },
  {
   "cell_type": "code",
   "execution_count": null,
   "metadata": {},
   "outputs": [],
   "source": [
    "#normality check\n",
    "plt.hist(df['cnt'], bins='auto')"
   ]
  },
  {
   "cell_type": "code",
   "execution_count": null,
   "metadata": {},
   "outputs": [],
   "source": [
    "#normalization\n",
    "for i in cnames:\n",
    "    print(i)\n",
    "    df[i] = (df[i] - min(df[i]))/(max(df[i]) - min(df[i]))"
   ]
  },
  {
   "cell_type": "code",
   "execution_count": null,
   "metadata": {},
   "outputs": [],
   "source": [
    "#standardization\n",
    "for i in cnames:\n",
    "         print(i)\n",
    "         df[i] = (df[i] - df[i].mean())/df[i].std()"
   ]
  },
  {
   "cell_type": "code",
   "execution_count": null,
   "metadata": {},
   "outputs": [],
   "source": [
    "for i in df:\n",
    "        df.loc[:,i] = df.loc[:,i].round()"
   ]
  },
  {
   "cell_type": "code",
   "execution_count": null,
   "metadata": {},
   "outputs": [],
   "source": [
    "df=df.astype(object)"
   ]
  },
  {
   "cell_type": "code",
   "execution_count": null,
   "metadata": {},
   "outputs": [],
   "source": [
    "#Divide data into train and test\n",
    "train, test = train_test_split(df, test_size=0.2)"
   ]
  },
  {
   "cell_type": "code",
   "execution_count": null,
   "metadata": {},
   "outputs": [],
   "source": [
    "#Import libraries for LR\n",
    "import statsmodels.api as sm"
   ]
  },
  {
   "cell_type": "code",
   "execution_count": null,
   "metadata": {},
   "outputs": [],
   "source": [
    "# Train the model using the training sets\n",
    "model = sm.OLS(train.iloc[:,16], train.iloc[:,0:16]).fit()"
   ]
  },
  {
   "cell_type": "code",
   "execution_count": null,
   "metadata": {},
   "outputs": [],
   "source": [
    "model.summary()"
   ]
  },
  {
   "cell_type": "code",
   "execution_count": null,
   "metadata": {},
   "outputs": [],
   "source": [
    "def MAPE(y_true, y_pred): \n",
    "    mape = np.mean(np.abs((y_true - y_pred) / y_true))*100\n",
    "    return mape"
   ]
  },
  {
   "cell_type": "code",
   "execution_count": null,
   "metadata": {},
   "outputs": [],
   "source": [
    "#make the predictions by model\n",
    "predictions_LR = model.predict(test.iloc[:,0:16]) "
   ]
  },
  {
   "cell_type": "code",
   "execution_count": null,
   "metadata": {},
   "outputs": [],
   "source": [
    "#Calculate MAPE\n",
    "MAPE(test.iloc[:,9], predictions_LR)"
   ]
  }
 ],
 "metadata": {
  "kernelspec": {
   "display_name": "Python 3",
   "language": "python",
   "name": "python3"
  },
  "language_info": {
   "codemirror_mode": {
    "name": "ipython",
    "version": 3
   },
   "file_extension": ".py",
   "mimetype": "text/x-python",
   "name": "python",
   "nbconvert_exporter": "python",
   "pygments_lexer": "ipython3",
   "version": "3.7.3"
  }
 },
 "nbformat": 4,
 "nbformat_minor": 2
}
